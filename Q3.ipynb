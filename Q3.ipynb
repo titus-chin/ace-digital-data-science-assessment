{
 "cells": [
  {
   "cell_type": "markdown",
   "id": "00728f11",
   "metadata": {},
   "source": [
    "# Q3\n",
    "Feed the following paragraph into your favourite data analytics tool, and answer the following:\n",
    "- a. What is the probability of the word “data” occurring in each line ?  \n",
    "- b. What is the distribution of distinct word counts across all the lines ?  \n",
    "- c. What is the probability of the word “analytics” occurring after the word “data” ?"
   ]
  },
  {
   "cell_type": "markdown",
   "id": "9108efea",
   "metadata": {},
   "source": [
    "## a. What is the probability of the word “data” occurring in each line ? "
   ]
  },
  {
   "cell_type": "code",
   "execution_count": 1,
   "id": "369eb1f1",
   "metadata": {},
   "outputs": [],
   "source": [
    "# Import necessary libraries\n",
    "import re\n",
    "from collections import Counter\n",
    "import matplotlib.pyplot as plt\n",
    "import nltk"
   ]
  },
  {
   "cell_type": "code",
   "execution_count": 2,
   "id": "53ef164c",
   "metadata": {},
   "outputs": [
    {
     "name": "stdout",
     "output_type": "stream",
     "text": [
      "As a term, data analytics predominantly refers to an assortment of applications, from basic business\n",
      "intelligence (BI), reporting and online analytical processing (OLAP) to various forms of advanced\n",
      "analytics. In that sense, it's similar in nature to business analytics, another umbrella term for\n",
      "approaches to analyzing data -- with the difference that the latter is oriented to business uses, while\n",
      "data analytics has a broader focus. The expansive view of the term isn't universal, though: In some\n",
      "cases, people use data analytics specifically to mean advanced analytics, treating BI as a separate\n",
      "category. Data analytics initiatives can help businesses increase revenues, improve operational\n",
      "efficiency, optimize marketing campaigns and customer service efforts, respond more quickly to\n",
      "emerging market trends and gain a competitive edge over rivals -- all with the ultimate goal of\n",
      "boosting business performance. Depending on the particular application, the data that's analyzed\n",
      "can consist of either historical records or new information that has been processed for real-time\n",
      "analytics uses. In addition, it can come from a mix of internal systems and external data sources. At\n",
      "a high level, data analytics methodologies include exploratory data analysis (EDA), which aims to find\n",
      "patterns and relationships in data, and confirmatory data analysis (CDA), which applies statistical\n",
      "techniques to determine whether hypotheses about a data set are true or false. EDA is often\n",
      "compared to detective work, while CDA is akin to the work of a judge or jury during a court trial -- a\n",
      "distinction first drawn by statistician John W Tukey in his 1977 book Exploratory Data Analysis. Data\n",
      "analytics can also be separated into quantitative data analysis and qualitative data analysis. The\n",
      "former involves analysis of numerical data with quantifiable variables that can be compared or\n",
      "measured statistically. The qualitative approach is more interpretive -- it focuses on understanding\n",
      "the content of non-numerical data like text, images, audio and video, including common phrases,\n",
      "themes and points of view.\n"
     ]
    }
   ],
   "source": [
    "# Create variable paragraph to store the text\n",
    "paragraph = \"\"\"As a term, data analytics predominantly refers to an assortment of applications, from basic business\n",
    "intelligence (BI), reporting and online analytical processing (OLAP) to various forms of advanced\n",
    "analytics. In that sense, it's similar in nature to business analytics, another umbrella term for\n",
    "approaches to analyzing data -- with the difference that the latter is oriented to business uses, while\n",
    "data analytics has a broader focus. The expansive view of the term isn't universal, though: In some\n",
    "cases, people use data analytics specifically to mean advanced analytics, treating BI as a separate\n",
    "category. Data analytics initiatives can help businesses increase revenues, improve operational\n",
    "efficiency, optimize marketing campaigns and customer service efforts, respond more quickly to\n",
    "emerging market trends and gain a competitive edge over rivals -- all with the ultimate goal of\n",
    "boosting business performance. Depending on the particular application, the data that's analyzed\n",
    "can consist of either historical records or new information that has been processed for real-time\n",
    "analytics uses. In addition, it can come from a mix of internal systems and external data sources. At\n",
    "a high level, data analytics methodologies include exploratory data analysis (EDA), which aims to find\n",
    "patterns and relationships in data, and confirmatory data analysis (CDA), which applies statistical\n",
    "techniques to determine whether hypotheses about a data set are true or false. EDA is often\n",
    "compared to detective work, while CDA is akin to the work of a judge or jury during a court trial -- a\n",
    "distinction first drawn by statistician John W Tukey in his 1977 book Exploratory Data Analysis. Data\n",
    "analytics can also be separated into quantitative data analysis and qualitative data analysis. The\n",
    "former involves analysis of numerical data with quantifiable variables that can be compared or\n",
    "measured statistically. The qualitative approach is more interpretive -- it focuses on understanding\n",
    "the content of non-numerical data like text, images, audio and video, including common phrases,\n",
    "themes and points of view.\"\"\"\n",
    "print(paragraph)"
   ]
  },
  {
   "cell_type": "code",
   "execution_count": 3,
   "id": "df24bf16",
   "metadata": {},
   "outputs": [
    {
     "name": "stdout",
     "output_type": "stream",
     "text": [
      "['as', 'a', 'term', 'data', 'analytics', 'predominantly', 'refers', 'to', 'an', 'assortment', 'of', 'applications', 'from', 'basic', 'business', 'intelligence', 'bi', 'reporting', 'and', 'online', 'analytical', 'processing', 'olap', 'to', 'various', 'forms', 'of', 'advanced', 'analytics']\n"
     ]
    }
   ],
   "source": [
    "# Convert paragraph to lines\n",
    "def paragraph_to_lines(text):\n",
    "    text = text.lower()  # To lowercase\n",
    "    text = re.sub(\"'s\", \" is\", text)  # Expand contraction\n",
    "    text = re.sub(\"n't\", \" not\", text)  # Expand contraction\n",
    "    lines = text.split(\".\")  # Split paragraph into lines\n",
    "    lines = [re.sub(\"[^\\w\\s\\d]+\", \" \", line) for line in lines]  # Keep only words, digits, and spaces\n",
    "    lines = [re.sub(\"\\s+\", \" \", line).strip() for line in lines]  # Remove extra spaces\n",
    "    lines = [line.split(\" \") for line in lines]  # Tokenize each line\n",
    "    return lines[:-1]\n",
    "\n",
    "lines = paragraph_to_lines(paragraph)\n",
    "print(lines[0])  # Inspect first line"
   ]
  },
  {
   "cell_type": "code",
   "execution_count": 4,
   "id": "17007452",
   "metadata": {
    "scrolled": false
   },
   "outputs": [
    {
     "name": "stdout",
     "output_type": "stream",
     "text": [
      "Line 1: 3.45%\n",
      "Line 2: 5.41%\n",
      "Line 3: 3.57%\n",
      "Line 4: 2.44%\n",
      "Line 5: 3.57%\n",
      "Line 6: 6.67%\n",
      "Line 7: 11.90%\n",
      "Line 8: 2.56%\n",
      "Line 9: 21.43%\n",
      "Line 10: 5.88%\n",
      "Line 11: 3.33%\n"
     ]
    }
   ],
   "source": [
    "# Count probability of the word “data” occurring in each line\n",
    "for i in range(len(lines)):\n",
    "    prob = Counter(lines[i])[\"data\"] / len(lines[i]) * 100\n",
    "    print(f\"Line {i+1}: {prob:.2f}%\")"
   ]
  },
  {
   "cell_type": "markdown",
   "id": "a25cf6c4",
   "metadata": {},
   "source": [
    "## b. What is the distribution of distinct word counts across all the lines ? "
   ]
  },
  {
   "cell_type": "code",
   "execution_count": 5,
   "id": "76dd4503",
   "metadata": {},
   "outputs": [
    {
     "name": "stdout",
     "output_type": "stream",
     "text": [
      "[26, 28, 26, 40, 26, 15, 33, 34, 11, 17, 27]\n"
     ]
    }
   ],
   "source": [
    "# Get distinct word counts across all lines\n",
    "distinct_word_counts = [len(set(line)) for line in lines]\n",
    "print(distinct_word_counts)"
   ]
  },
  {
   "cell_type": "code",
   "execution_count": 6,
   "id": "430bd2b7",
   "metadata": {},
   "outputs": [
    {
     "data": {
      "image/png": "[encoded data removed]",
      "text/plain": [
       "<Figure size 640x480 with 1 Axes>"
      ]
     },
     "metadata": {},
     "output_type": "display_data"
    }
   ],
   "source": [
    "# Visualize the distribution of distinct word counts across all the lines using histogram\n",
    "plt.hist(distinct_word_counts, bins=5)\n",
    "plt.show()"
   ]
  },
  {
   "cell_type": "markdown",
   "id": "39d771a7",
   "metadata": {},
   "source": [
    "### Findings:\n",
    "The distribution of distinct word counts across all 11 lines are roughly normal distribution"
   ]
  },
  {
   "cell_type": "markdown",
   "id": "9503f08b",
   "metadata": {},
   "source": [
    "## c. What is the probability of the word “analytics” occurring after the word “data” ?\n",
    "P(analytics|data) = Count(data analytics) / Count(data)"
   ]
  },
  {
   "cell_type": "code",
   "execution_count": 7,
   "id": "0b5b4a30",
   "metadata": {},
   "outputs": [
    {
     "name": "stdout",
     "output_type": "stream",
     "text": [
      "['as', 'a', 'term', 'data', 'analytics', 'predominantly', 'refers', 'to', 'an', 'assortment', 'of', 'applications', 'from', 'basic', 'business', 'intelligence', 'bi', 'reporting', 'and', 'online', 'analytical', 'processing', 'olap', 'to', 'various', 'forms', 'of', 'advanced', 'analytics', 'in', 'that', 'sense', 'it', 'is', 'similar', 'in', 'nature', 'to', 'business', 'analytics', 'another', 'umbrella', 'term', 'for', 'approaches', 'to', 'analyzing', 'data', 'with', 'the', 'difference', 'that', 'the', 'latter', 'is', 'oriented', 'to', 'business', 'uses', 'while', 'data', 'analytics', 'has', 'a', 'broader', 'focus', 'the', 'expansive', 'view', 'of', 'the', 'term', 'is', 'not', 'universal', 'though', 'in', 'some', 'cases', 'people', 'use', 'data', 'analytics', 'specifically', 'to', 'mean', 'advanced', 'analytics', 'treating', 'bi', 'as', 'a', 'separate', 'category', 'data', 'analytics', 'initiatives', 'can', 'help', 'businesses', 'increase', 'revenues', 'improve', 'operational', 'efficiency', 'optimize', 'marketing', 'campaigns', 'and', 'customer', 'service', 'efforts', 'respond', 'more', 'quickly', 'to', 'emerging', 'market', 'trends', 'and', 'gain', 'a', 'competitive', 'edge', 'over', 'rivals', 'all', 'with', 'the', 'ultimate', 'goal', 'of', 'boosting', 'business', 'performance', 'depending', 'on', 'the', 'particular', 'application', 'the', 'data', 'that', 'is', 'analyzed', 'can', 'consist', 'of', 'either', 'historical', 'records', 'or', 'new', 'information', 'that', 'has', 'been', 'processed', 'for', 'real', 'time', 'analytics', 'uses', 'in', 'addition', 'it', 'can', 'come', 'from', 'a', 'mix', 'of', 'internal', 'systems', 'and', 'external', 'data', 'sources', 'at', 'a', 'high', 'level', 'data', 'analytics', 'methodologies', 'include', 'exploratory', 'data', 'analysis', 'eda', 'which', 'aims', 'to', 'find', 'patterns', 'and', 'relationships', 'in', 'data', 'and', 'confirmatory', 'data', 'analysis', 'cda', 'which', 'applies', 'statistical', 'techniques', 'to', 'determine', 'whether', 'hypotheses', 'about', 'a', 'data', 'set', 'are', 'true', 'or', 'false', 'eda', 'is', 'often', 'compared', 'to', 'detective', 'work', 'while', 'cda', 'is', 'akin', 'to', 'the', 'work', 'of', 'a', 'judge', 'or', 'jury', 'during', 'a', 'court', 'trial', 'a', 'distinction', 'first', 'drawn', 'by', 'statistician', 'john', 'w', 'tukey', 'in', 'his', '1977', 'book', 'exploratory', 'data', 'analysis', 'data', 'analytics', 'can', 'also', 'be', 'separated', 'into', 'quantitative', 'data', 'analysis', 'and', 'qualitative', 'data', 'analysis', 'the', 'former', 'involves', 'analysis', 'of', 'numerical', 'data', 'with', 'quantifiable', 'variables', 'that', 'can', 'be', 'compared', 'or', 'measured', 'statistically', 'the', 'qualitative', 'approach', 'is', 'more', 'interpretive', 'it', 'focuses', 'on', 'understanding', 'the', 'content', 'of', 'non', 'numerical', 'data', 'like', 'text', 'images', 'audio', 'and', 'video', 'including', 'common', 'phrases', 'themes', 'and', 'points', 'of', 'view']\n"
     ]
    }
   ],
   "source": [
    "# Combine all lines together\n",
    "combined = []\n",
    "for line in lines:\n",
    "    combined.extend(line)\n",
    "print(combined)"
   ]
  },
  {
   "cell_type": "code",
   "execution_count": 8,
   "id": "051d7378",
   "metadata": {},
   "outputs": [
    {
     "name": "stdout",
     "output_type": "stream",
     "text": [
      "[('as', 'a'), ('a', 'term'), ('term', 'data'), ('data', 'analytics'), ('analytics', 'predominantly'), ('predominantly', 'refers'), ('refers', 'to'), ('to', 'an'), ('an', 'assortment'), ('assortment', 'of'), ('of', 'applications'), ('applications', 'from'), ('from', 'basic'), ('basic', 'business'), ('business', 'intelligence'), ('intelligence', 'bi'), ('bi', 'reporting'), ('reporting', 'and'), ('and', 'online'), ('online', 'analytical'), ('analytical', 'processing'), ('processing', 'olap'), ('olap', 'to'), ('to', 'various'), ('various', 'forms'), ('forms', 'of'), ('of', 'advanced'), ('advanced', 'analytics'), ('analytics', 'in'), ('in', 'that'), ('that', 'sense'), ('sense', 'it'), ('it', 'is'), ('is', 'similar'), ('similar', 'in'), ('in', 'nature'), ('nature', 'to'), ('to', 'business'), ('business', 'analytics'), ('analytics', 'another'), ('another', 'umbrella'), ('umbrella', 'term'), ('term', 'for'), ('for', 'approaches'), ('approaches', 'to'), ('to', 'analyzing'), ('analyzing', 'data'), ('data', 'with'), ('with', 'the'), ('the', 'difference'), ('difference', 'that'), ('that', 'the'), ('the', 'latter'), ('latter', 'is'), ('is', 'oriented'), ('oriented', 'to'), ('to', 'business'), ('business', 'uses'), ('uses', 'while'), ('while', 'data'), ('data', 'analytics'), ('analytics', 'has'), ('has', 'a'), ('a', 'broader'), ('broader', 'focus'), ('focus', 'the'), ('the', 'expansive'), ('expansive', 'view'), ('view', 'of'), ('of', 'the'), ('the', 'term'), ('term', 'is'), ('is', 'not'), ('not', 'universal'), ('universal', 'though'), ('though', 'in'), ('in', 'some'), ('some', 'cases'), ('cases', 'people'), ('people', 'use'), ('use', 'data'), ('data', 'analytics'), ('analytics', 'specifically'), ('specifically', 'to'), ('to', 'mean'), ('mean', 'advanced'), ('advanced', 'analytics'), ('analytics', 'treating'), ('treating', 'bi'), ('bi', 'as'), ('as', 'a'), ('a', 'separate'), ('separate', 'category'), ('category', 'data'), ('data', 'analytics'), ('analytics', 'initiatives'), ('initiatives', 'can'), ('can', 'help'), ('help', 'businesses'), ('businesses', 'increase'), ('increase', 'revenues'), ('revenues', 'improve'), ('improve', 'operational'), ('operational', 'efficiency'), ('efficiency', 'optimize'), ('optimize', 'marketing'), ('marketing', 'campaigns'), ('campaigns', 'and'), ('and', 'customer'), ('customer', 'service'), ('service', 'efforts'), ('efforts', 'respond'), ('respond', 'more'), ('more', 'quickly'), ('quickly', 'to'), ('to', 'emerging'), ('emerging', 'market'), ('market', 'trends'), ('trends', 'and'), ('and', 'gain'), ('gain', 'a'), ('a', 'competitive'), ('competitive', 'edge'), ('edge', 'over'), ('over', 'rivals'), ('rivals', 'all'), ('all', 'with'), ('with', 'the'), ('the', 'ultimate'), ('ultimate', 'goal'), ('goal', 'of'), ('of', 'boosting'), ('boosting', 'business'), ('business', 'performance'), ('performance', 'depending'), ('depending', 'on'), ('on', 'the'), ('the', 'particular'), ('particular', 'application'), ('application', 'the'), ('the', 'data'), ('data', 'that'), ('that', 'is'), ('is', 'analyzed'), ('analyzed', 'can'), ('can', 'consist'), ('consist', 'of'), ('of', 'either'), ('either', 'historical'), ('historical', 'records'), ('records', 'or'), ('or', 'new'), ('new', 'information'), ('information', 'that'), ('that', 'has'), ('has', 'been'), ('been', 'processed'), ('processed', 'for'), ('for', 'real'), ('real', 'time'), ('time', 'analytics'), ('analytics', 'uses'), ('uses', 'in'), ('in', 'addition'), ('addition', 'it'), ('it', 'can'), ('can', 'come'), ('come', 'from'), ('from', 'a'), ('a', 'mix'), ('mix', 'of'), ('of', 'internal'), ('internal', 'systems'), ('systems', 'and'), ('and', 'external'), ('external', 'data'), ('data', 'sources'), ('sources', 'at'), ('at', 'a'), ('a', 'high'), ('high', 'level'), ('level', 'data'), ('data', 'analytics'), ('analytics', 'methodologies'), ('methodologies', 'include'), ('include', 'exploratory'), ('exploratory', 'data'), ('data', 'analysis'), ('analysis', 'eda'), ('eda', 'which'), ('which', 'aims'), ('aims', 'to'), ('to', 'find'), ('find', 'patterns'), ('patterns', 'and'), ('and', 'relationships'), ('relationships', 'in'), ('in', 'data'), ('data', 'and'), ('and', 'confirmatory'), ('confirmatory', 'data'), ('data', 'analysis'), ('analysis', 'cda'), ('cda', 'which'), ('which', 'applies'), ('applies', 'statistical'), ('statistical', 'techniques'), ('techniques', 'to'), ('to', 'determine'), ('determine', 'whether'), ('whether', 'hypotheses'), ('hypotheses', 'about'), ('about', 'a'), ('a', 'data'), ('data', 'set'), ('set', 'are'), ('are', 'true'), ('true', 'or'), ('or', 'false'), ('false', 'eda'), ('eda', 'is'), ('is', 'often'), ('often', 'compared'), ('compared', 'to'), ('to', 'detective'), ('detective', 'work'), ('work', 'while'), ('while', 'cda'), ('cda', 'is'), ('is', 'akin'), ('akin', 'to'), ('to', 'the'), ('the', 'work'), ('work', 'of'), ('of', 'a'), ('a', 'judge'), ('judge', 'or'), ('or', 'jury'), ('jury', 'during'), ('during', 'a'), ('a', 'court'), ('court', 'trial'), ('trial', 'a'), ('a', 'distinction'), ('distinction', 'first'), ('first', 'drawn'), ('drawn', 'by'), ('by', 'statistician'), ('statistician', 'john'), ('john', 'w'), ('w', 'tukey'), ('tukey', 'in'), ('in', 'his'), ('his', '1977'), ('1977', 'book'), ('book', 'exploratory'), ('exploratory', 'data'), ('data', 'analysis'), ('analysis', 'data'), ('data', 'analytics'), ('analytics', 'can'), ('can', 'also'), ('also', 'be'), ('be', 'separated'), ('separated', 'into'), ('into', 'quantitative'), ('quantitative', 'data'), ('data', 'analysis'), ('analysis', 'and'), ('and', 'qualitative'), ('qualitative', 'data'), ('data', 'analysis'), ('analysis', 'the'), ('the', 'former'), ('former', 'involves'), ('involves', 'analysis'), ('analysis', 'of'), ('of', 'numerical'), ('numerical', 'data'), ('data', 'with'), ('with', 'quantifiable'), ('quantifiable', 'variables'), ('variables', 'that'), ('that', 'can'), ('can', 'be'), ('be', 'compared'), ('compared', 'or'), ('or', 'measured'), ('measured', 'statistically'), ('statistically', 'the'), ('the', 'qualitative'), ('qualitative', 'approach'), ('approach', 'is'), ('is', 'more'), ('more', 'interpretive'), ('interpretive', 'it'), ('it', 'focuses'), ('focuses', 'on'), ('on', 'understanding'), ('understanding', 'the'), ('the', 'content'), ('content', 'of'), ('of', 'non'), ('non', 'numerical'), ('numerical', 'data'), ('data', 'like'), ('like', 'text'), ('text', 'images'), ('images', 'audio'), ('audio', 'and'), ('and', 'video'), ('video', 'including'), ('including', 'common'), ('common', 'phrases'), ('phrases', 'themes'), ('themes', 'and'), ('and', 'points'), ('points', 'of'), ('of', 'view')]\n"
     ]
    }
   ],
   "source": [
    "# Get all bigrams of the combined lines\n",
    "bigrams = list(nltk.bigrams(combined))\n",
    "print(bigrams)"
   ]
  },
  {
   "cell_type": "code",
   "execution_count": 9,
   "id": "4d7ec90b",
   "metadata": {},
   "outputs": [
    {
     "name": "stdout",
     "output_type": "stream",
     "text": [
      "P(analytics|data) = 33.33%\n"
     ]
    }
   ],
   "source": [
    "# Get the probability of the word “analytics” occurring after the word “data” using formula below:\n",
    "# P(analytics|data) = Count(data analytics) / Count(data)\n",
    "count_data_analytics = Counter(bigrams)[('data', 'analytics')]\n",
    "count_data = Counter(combined)[\"data\"]\n",
    "prob_data_analytics = count_data_analytics / count_data * 100\n",
    "print(f\"P(analytics|data) = {prob_data_analytics:.2f}%\")"
   ]
  }
 ],
 "metadata": {
  "kernelspec": {
   "display_name": "Python 3 (ipykernel)",
   "language": "python",
   "name": "python3"
  },
  "language_info": {
   "codemirror_mode": {
    "name": "ipython",
    "version": 3
   },
   "file_extension": ".py",
   "mimetype": "text/x-python",
   "name": "python",
   "nbconvert_exporter": "python",
   "pygments_lexer": "ipython3",
   "version": "3.8.10"
  }
 },
 "nbformat": 4,
 "nbformat_minor": 5
}
